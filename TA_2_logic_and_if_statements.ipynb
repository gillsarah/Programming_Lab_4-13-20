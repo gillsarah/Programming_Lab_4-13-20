{
 "cells": [
  {
   "cell_type": "markdown",
   "metadata": {},
   "source": [
    "## Optional Activity:\n",
    "#### task: use a list to create a string or a few strings "
   ]
  },
  {
   "cell_type": "raw",
   "metadata": {},
   "source": [
    "Remember, there is a string method that you can use to turn a list of string into a string. But feel free to do more than that\n",
    "\n",
    "If you don't have an idea: \n",
    "Alter the example below so that instead of 4 sentences, you only print 2:\n",
    "print \"I've lived in CA, NM, and MO. Now I live in IL\""
   ]
  },
  {
   "cell_type": "code",
   "execution_count": null,
   "metadata": {},
   "outputs": [],
   "source": [
    "#note this is how str.format() works:\n",
    "my_string = \"Stuff {} and more stuff {}. Other stuff {}\"\n",
    "#my_string.format(what goes in the first{}, on the second{}, third{}, etc)\n",
    "my_string.format('that I say', 'that I want to say', 'that should not be said')"
   ]
  },
  {
   "cell_type": "code",
   "execution_count": null,
   "metadata": {},
   "outputs": [],
   "source": [
    "#e.g.\n",
    "states = ['CA', 'NM', 'MO', 'IL']\n",
    "current = 'IL'\n",
    "\n",
    "for state in states:\n",
    "    if state == current:\n",
    "        print(\"Now I live in \"+ state)\n",
    "    else:\n",
    "        print(\"I've lived in \"+ state)\n"
   ]
  },
  {
   "cell_type": "code",
   "execution_count": null,
   "metadata": {},
   "outputs": [],
   "source": [
    "#or do the same thing a little differently\n",
    "states = ['CA', 'NM', 'MO', 'IL']\n",
    "current = 'IL'\n",
    "\n",
    "for state in states: \n",
    "    if state == current:\n",
    "        print(\"Now I live in {}\".format(state))\n",
    "    else:\n",
    "        print(\"I've lived in {}\".format(state))"
   ]
  },
  {
   "cell_type": "code",
   "execution_count": null,
   "metadata": {},
   "outputs": [],
   "source": [
    "#also the same!\n",
    "for i in range(len(states)):\n",
    "    if states[i] == current: \n",
    "        print(\"Now I live in \"+ states[i])\n",
    "    else:\n",
    "        print(\"I've lived in \"+ states[i])"
   ]
  },
  {
   "cell_type": "markdown",
   "metadata": {},
   "source": [
    "### Let's take this apart"
   ]
  },
  {
   "cell_type": "code",
   "execution_count": null,
   "metadata": {},
   "outputs": [],
   "source": [
    "list(range(len(states)))"
   ]
  },
  {
   "cell_type": "code",
   "execution_count": null,
   "metadata": {},
   "outputs": [],
   "source": [
    "states[1] #index over the list"
   ]
  },
  {
   "cell_type": "code",
   "execution_count": null,
   "metadata": {},
   "outputs": [],
   "source": [
    "for i in [0, 1, 2, 3]: #make i be each of these numbers, 0, 1, 2 and 3\n",
    "    print(states[i], states[i] == current) "
   ]
  },
  {
   "cell_type": "code",
   "execution_count": null,
   "metadata": {},
   "outputs": [],
   "source": [
    "for i in [0, 1, 2, 3]:\n",
    "    print(states[i], states[i] != current) "
   ]
  },
  {
   "cell_type": "code",
   "execution_count": null,
   "metadata": {},
   "outputs": [],
   "source": [
    "#just making a list of these boolians, to work with\n",
    "temp_list = []\n",
    "for i in range(len(states)):\n",
    "    temp_list.append(states[i] != current) \n",
    "temp_list"
   ]
  },
  {
   "cell_type": "code",
   "execution_count": null,
   "metadata": {},
   "outputs": [],
   "source": [
    "i = 3\n",
    "x = temp_list[i]\n",
    "if x == True:\n",
    "    print('it is True!')\n",
    "elif x == False:\n",
    "    print('it is False')\n",
    "else:\n",
    "    print('what?') #because there are only two options here, we never expect to enter this part of the if statement"
   ]
  },
  {
   "cell_type": "code",
   "execution_count": null,
   "metadata": {},
   "outputs": [],
   "source": [
    "#note, we can do the same thing this way:\n",
    "i = 0\n",
    "x = temp_list[i]\n",
    "if x:\n",
    "    print('it is True!')\n",
    "elif not x:\n",
    "    print('it is False')"
   ]
  },
  {
   "cell_type": "code",
   "execution_count": null,
   "metadata": {},
   "outputs": [],
   "source": [
    "#of course, since there are only two options, this is also the same\n",
    "i = 3\n",
    "x = temp_list[i]\n",
    "if x:\n",
    "    print('it is True!')\n",
    "else:\n",
    "    print('it is False')"
   ]
  },
  {
   "cell_type": "code",
   "execution_count": null,
   "metadata": {},
   "outputs": [],
   "source": [
    "#now back to the silly example\n",
    "print(states)\n",
    "i = 3\n",
    "if states[i] == current: \n",
    "    print(\"I'm in the if\")\n",
    "    print(\"if is {}\".format(states[i] == current))\n",
    "    print(\"Now I live in \"+ states[i])\n",
    "elif states[i] != current:\n",
    "    print(\"I'm in the elif\")\n",
    "    print(\"elif is {}\".format(states[i] != current))\n",
    "    print(\"I've lived in \"+ states[i])"
   ]
  },
  {
   "cell_type": "markdown",
   "metadata": {},
   "source": [
    "## Another If Statement Example"
   ]
  },
  {
   "cell_type": "code",
   "execution_count": null,
   "metadata": {},
   "outputs": [],
   "source": [
    "my_var = 4.1\n",
    "\n",
    "if isinstance(my_var, str): #isinstance is built in fn to test for data type\n",
    "    print(\"Ok, that's nice. It's a string\")\n",
    "elif isinstance(my_var, int):\n",
    "    print(my_var + 2)\n",
    "elif isinstance(my_var, float):\n",
    "    print(my_var * 2)\n",
    "else:\n",
    "    print('unexpected data type')\n"
   ]
  },
  {
   "cell_type": "markdown",
   "metadata": {},
   "source": [
    "### Nested If Statement "
   ]
  },
  {
   "cell_type": "code",
   "execution_count": null,
   "metadata": {},
   "outputs": [],
   "source": [
    "my_var = 10\n",
    "\n",
    "if isinstance(my_var, str): #isinstance is built in fn to test for data type\n",
    "    print(\"Ok, that's nice. It's a string\")\n",
    "elif isinstance(my_var, int):\n",
    "    if my_var % 2 == 0:\n",
    "        print('even integer')\n",
    "        print(my_var + 2)\n",
    "    elif my_var % 5 == 0:\n",
    "        print('int is divisible by 5')\n",
    "        print(my_var * 5)\n",
    "    else:\n",
    "        print('int is neither divisible by 2 or by 5')\n",
    "    #I removed the float elif, just so this wasn't so long\n",
    "else:\n",
    "    print('unexpected data type')"
   ]
  },
  {
   "cell_type": "code",
   "execution_count": null,
   "metadata": {},
   "outputs": [],
   "source": [
    "my_var = 10\n",
    "\n",
    "if isinstance(my_var, str): #isinstance is built in fn to test for data type\n",
    "    print(\"Ok, that's nice. It's a string\")\n",
    "elif isinstance(my_var, int):\n",
    "    if my_var % 2 == 0:\n",
    "        print('even integer')\n",
    "        print(my_var + 2)\n",
    "        if my_var % 5 == 0:\n",
    "            print('int is divisible by 5')\n",
    "            print(my_var * 5)\n",
    "    else:\n",
    "        print('int is odd')\n",
    "    #I removed the float elif, just so this wasn't so long\n",
    "else:\n",
    "    print('unexpected data type')"
   ]
  },
  {
   "cell_type": "markdown",
   "metadata": {},
   "source": [
    "### and, or, in, not"
   ]
  },
  {
   "cell_type": "code",
   "execution_count": null,
   "metadata": {},
   "outputs": [],
   "source": [
    "x = [1,2,3,4] #len(x) == 4\n",
    "y = [3,5,9] #len(y) == 3\n",
    "\n",
    "print(len(x) < 3)\n",
    "print(len(y) <= 3)\n",
    "print(len(x) < 3 and len(y) <= 3)\n",
    "print(len(x) < 3 or len(y) <= 3)"
   ]
  },
  {
   "cell_type": "code",
   "execution_count": null,
   "metadata": {},
   "outputs": [],
   "source": [
    "1 in x and 3 in y"
   ]
  },
  {
   "cell_type": "code",
   "execution_count": null,
   "metadata": {},
   "outputs": [],
   "source": [
    "states = ['CA', 'NM', 'MO', 'IL']\n",
    "counties = ['Los Angeles', 'Santa Fe']#,'Cook County']\n",
    "state = 'IL'\n",
    "county = 'Cook County'\n",
    "\n",
    "if state in states and county in counties:\n",
    "    print(\"I have the data for {}, {}\".format(county, state))\n",
    "elif state in states and county not in counties:\n",
    "    print(\"I have the data for {}, but not for {}\".format(state, county))\n",
    "else:\n",
    "    print(\"Huh?\")"
   ]
  },
  {
   "cell_type": "code",
   "execution_count": null,
   "metadata": {},
   "outputs": [],
   "source": [
    "print(state in states) \n",
    "print(county in counties)"
   ]
  },
  {
   "cell_type": "code",
   "execution_count": null,
   "metadata": {},
   "outputs": [],
   "source": [
    "print(state in states and county in counties) "
   ]
  },
  {
   "cell_type": "code",
   "execution_count": null,
   "metadata": {},
   "outputs": [],
   "source": [
    "print(state in states) \n",
    "print(county not in counties)"
   ]
  },
  {
   "cell_type": "code",
   "execution_count": null,
   "metadata": {},
   "outputs": [],
   "source": [
    "print(state in states and county not in counties) "
   ]
  },
  {
   "cell_type": "code",
   "execution_count": null,
   "metadata": {},
   "outputs": [],
   "source": [
    "states = ['CA', 'NM', 'MO', 'IL']\n",
    "counties = ['Los Angeles', 'Santa Fe']#,'Cook County']\n",
    "state = 'IL'\n",
    "county = 'Cook County'\n",
    "\n",
    "if state in states or county in counties:\n",
    "    print(\"I have the data for {} or {}, maybe both\".format(county, state))\n",
    "else:\n",
    "    print(\"I have the data for neither {} nor {}\".format(county, state))"
   ]
  },
  {
   "cell_type": "code",
   "execution_count": null,
   "metadata": {},
   "outputs": [],
   "source": [
    "print(state in states)\n",
    "print(county in counties)"
   ]
  },
  {
   "cell_type": "code",
   "execution_count": null,
   "metadata": {},
   "outputs": [],
   "source": [
    "print(state in states or county in counties) \n",
    "print(state in states and county in counties) "
   ]
  },
  {
   "cell_type": "markdown",
   "metadata": {},
   "source": [
    "## Reminder about Slicing "
   ]
  },
  {
   "cell_type": "code",
   "execution_count": 26,
   "metadata": {},
   "outputs": [
    {
     "data": {
      "text/plain": [
       "'g'"
      ]
     },
     "execution_count": 26,
     "metadata": {},
     "output_type": "execute_result"
    }
   ],
   "source": [
    "my_string = 'This is a string'\n",
    "my_list = [1,'a', 2, 'b']"
   ]
  },
  {
   "cell_type": "code",
   "execution_count": 28,
   "metadata": {},
   "outputs": [
    {
     "data": {
      "text/plain": [
       "'b'"
      ]
     },
     "execution_count": 28,
     "metadata": {},
     "output_type": "execute_result"
    }
   ],
   "source": [
    "my_list[3]"
   ]
  },
  {
   "cell_type": "code",
   "execution_count": 29,
   "metadata": {},
   "outputs": [
    {
     "data": {
      "text/plain": [
       "'g'"
      ]
     },
     "execution_count": 29,
     "metadata": {},
     "output_type": "execute_result"
    }
   ],
   "source": [
    "my_string[15]"
   ]
  },
  {
   "cell_type": "code",
   "execution_count": 22,
   "metadata": {},
   "outputs": [
    {
     "data": {
      "text/plain": [
       "'b'"
      ]
     },
     "execution_count": 22,
     "metadata": {},
     "output_type": "execute_result"
    }
   ],
   "source": [
    "my_list[-1]"
   ]
  },
  {
   "cell_type": "code",
   "execution_count": 23,
   "metadata": {},
   "outputs": [
    {
     "data": {
      "text/plain": [
       "'g'"
      ]
     },
     "execution_count": 23,
     "metadata": {},
     "output_type": "execute_result"
    }
   ],
   "source": [
    "my_string[-1]"
   ]
  },
  {
   "cell_type": "code",
   "execution_count": 17,
   "metadata": {},
   "outputs": [
    {
     "data": {
      "text/plain": [
       "['b', 2, 'a', 1]"
      ]
     },
     "execution_count": 17,
     "metadata": {},
     "output_type": "execute_result"
    }
   ],
   "source": [
    "my_list[::-1] #[start:end:step]"
   ]
  },
  {
   "cell_type": "code",
   "execution_count": 18,
   "metadata": {},
   "outputs": [
    {
     "data": {
      "text/plain": [
       "'gnirts a si sihT'"
      ]
     },
     "execution_count": 18,
     "metadata": {},
     "output_type": "execute_result"
    }
   ],
   "source": [
    "my_string[::-1]"
   ]
  },
  {
   "cell_type": "markdown",
   "metadata": {},
   "source": [
    "## Next Time: Functions and for loops"
   ]
  },
  {
   "cell_type": "code",
   "execution_count": 30,
   "metadata": {},
   "outputs": [],
   "source": [
    "#a function\n",
    "def my_function(goes_in, also_goes_in):\n",
    "    print('do someting to ' + goes_in)\n",
    "    print('do something to ' + also_goes_in + ' too')\n",
    "\n",
    "x = 'my variable'\n",
    "y ='my other variable'\n"
   ]
  },
  {
   "cell_type": "code",
   "execution_count": 31,
   "metadata": {},
   "outputs": [
    {
     "name": "stdout",
     "output_type": "stream",
     "text": [
      "do someting to my variable\n",
      "do something to my other variable too\n"
     ]
    }
   ],
   "source": [
    "my_function(x,y) "
   ]
  },
  {
   "cell_type": "code",
   "execution_count": 32,
   "metadata": {},
   "outputs": [
    {
     "name": "stdout",
     "output_type": "stream",
     "text": [
      "1\n",
      "a\n",
      "2\n",
      "b\n"
     ]
    }
   ],
   "source": [
    "#you've seen for loops: takes each element in my_list and does the thing I ask it to do\n",
    "for x in my_list:\n",
    "    print(x)"
   ]
  },
  {
   "cell_type": "code",
   "execution_count": null,
   "metadata": {},
   "outputs": [],
   "source": []
  }
 ],
 "metadata": {
  "kernelspec": {
   "display_name": "Python 3",
   "language": "python",
   "name": "python3"
  },
  "language_info": {
   "codemirror_mode": {
    "name": "ipython",
    "version": 3
   },
   "file_extension": ".py",
   "mimetype": "text/x-python",
   "name": "python",
   "nbconvert_exporter": "python",
   "pygments_lexer": "ipython3",
   "version": "3.7.1"
  }
 },
 "nbformat": 4,
 "nbformat_minor": 2
}
