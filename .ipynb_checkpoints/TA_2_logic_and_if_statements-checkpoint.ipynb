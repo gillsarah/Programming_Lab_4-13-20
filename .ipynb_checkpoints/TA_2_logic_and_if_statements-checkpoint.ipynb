{
 "cells": [
  {
   "cell_type": "markdown",
   "metadata": {},
   "source": [
    "## Optional Activity:\n",
    "#### task: use a list to create a string or a few strings "
   ]
  },
  {
   "cell_type": "raw",
   "metadata": {},
   "source": [
    "Remember, there is a string method that you can use to turn a list of string into a string. But feel free to do more than that\n",
    "\n",
    "If you don't have an idea: \n",
    "Alter the example below so that instead of 4 sentences, you only print 2:\n",
    "print \"I've lived in CA, NM, and MO. Now I live in IL\""
   ]
  },
  {
   "cell_type": "code",
   "execution_count": 15,
   "metadata": {},
   "outputs": [
    {
     "data": {
      "text/plain": [
       "'Stuff that I say and more stuff that I want to say. Other stuff that should not be said'"
      ]
     },
     "execution_count": 15,
     "metadata": {},
     "output_type": "execute_result"
    }
   ],
   "source": [
    "#note this is how str.format() works:\n",
    "my_string = \"Stuff {} and more stuff {}. Other stuff {}\"\n",
    "#my_string.format(what goes in the first{}, on the second{}, third{}, etc)\n",
    "my_string.format('that I say', 'that I want to say', 'that should not be said')"
   ]
  },
  {
   "cell_type": "code",
   "execution_count": 17,
   "metadata": {},
   "outputs": [
    {
     "name": "stdout",
     "output_type": "stream",
     "text": [
      "I've lived in CA\n",
      "I've lived in NM\n",
      "I've lived in MO\n",
      "Now I live in IL\n"
     ]
    }
   ],
   "source": [
    "#e.g.\n",
    "states = ['CA', 'NM', 'MO', 'IL']\n",
    "current = 'IL'\n",
    "\n",
    "for state in states: #we will cover for loops later (I promise)\n",
    "    if state == current:\n",
    "        print(\"Now I live in \"+ state)\n",
    "    else:\n",
    "        print(\"I've lived in \"+ state)\n"
   ]
  },
  {
   "cell_type": "code",
   "execution_count": 16,
   "metadata": {},
   "outputs": [
    {
     "name": "stdout",
     "output_type": "stream",
     "text": [
      "I've lived in CA\n",
      "I've lived in NM\n",
      "I've lived in MO\n",
      "Now I live in IL\n"
     ]
    }
   ],
   "source": [
    "#or do the same thing a little differently\n",
    "states = ['CA', 'NM', 'MO', 'IL']\n",
    "current = 'IL'\n",
    "\n",
    "for state in states: \n",
    "    if state == current:\n",
    "        print(\"Now I live in {}\".format(state))\n",
    "    else:\n",
    "        print(\"I've lived in {}\".format(state))"
   ]
  },
  {
   "cell_type": "code",
   "execution_count": 18,
   "metadata": {},
   "outputs": [
    {
     "name": "stdout",
     "output_type": "stream",
     "text": [
      "I've lived in CA\n",
      "I've lived in NM\n",
      "I've lived in MO\n",
      "Now I live in IL\n"
     ]
    }
   ],
   "source": [
    "#also the same!\n",
    "for i in range(len(states)):\n",
    "    if states[i] == current: \n",
    "        print(\"Now I live in \"+ states[i])\n",
    "    else:\n",
    "        print(\"I've lived in \"+ states[i])"
   ]
  },
  {
   "cell_type": "markdown",
   "metadata": {},
   "source": [
    "### Let's take this apart"
   ]
  },
  {
   "cell_type": "code",
   "execution_count": 42,
   "metadata": {},
   "outputs": [
    {
     "data": {
      "text/plain": [
       "[0, 1, 2, 3]"
      ]
     },
     "execution_count": 42,
     "metadata": {},
     "output_type": "execute_result"
    }
   ],
   "source": [
    "list(range(len(states)))"
   ]
  },
  {
   "cell_type": "code",
   "execution_count": 43,
   "metadata": {},
   "outputs": [
    {
     "data": {
      "text/plain": [
       "'NM'"
      ]
     },
     "execution_count": 43,
     "metadata": {},
     "output_type": "execute_result"
    }
   ],
   "source": [
    "states[1] #index over the list"
   ]
  },
  {
   "cell_type": "code",
   "execution_count": 46,
   "metadata": {},
   "outputs": [
    {
     "name": "stdout",
     "output_type": "stream",
     "text": [
      "CA False\n",
      "NM False\n",
      "MO False\n",
      "IL True\n"
     ]
    }
   ],
   "source": [
    "for i in [0, 1, 2, 3]: #make i be each of these numbers, 0, 1, 2 and 3\n",
    "    print(states[i], states[i] == current) "
   ]
  },
  {
   "cell_type": "code",
   "execution_count": 47,
   "metadata": {},
   "outputs": [
    {
     "name": "stdout",
     "output_type": "stream",
     "text": [
      "CA True\n",
      "NM True\n",
      "MO True\n",
      "IL False\n"
     ]
    }
   ],
   "source": [
    "for i in [0, 1, 2, 3]:\n",
    "    print(states[i], states[i] != current) "
   ]
  },
  {
   "cell_type": "code",
   "execution_count": 22,
   "metadata": {},
   "outputs": [
    {
     "data": {
      "text/plain": [
       "[True, True, True, False]"
      ]
     },
     "execution_count": 22,
     "metadata": {},
     "output_type": "execute_result"
    }
   ],
   "source": [
    "#just making a list of these boolians, to work with\n",
    "temp_list = []\n",
    "for i in range(len(states)):\n",
    "    temp_list.append(states[i] != current) \n",
    "temp_list"
   ]
  },
  {
   "cell_type": "code",
   "execution_count": 24,
   "metadata": {},
   "outputs": [
    {
     "name": "stdout",
     "output_type": "stream",
     "text": [
      "it is False\n"
     ]
    }
   ],
   "source": [
    "i = 3\n",
    "x = temp_list[i]\n",
    "if x == True:\n",
    "    print('it is True!')\n",
    "elif x == False:\n",
    "    print('it is False')\n",
    "else:\n",
    "    print('what?') #because there are only two options here, we never expect to enter this part of the if statement"
   ]
  },
  {
   "cell_type": "code",
   "execution_count": 26,
   "metadata": {},
   "outputs": [
    {
     "name": "stdout",
     "output_type": "stream",
     "text": [
      "it is True!\n"
     ]
    }
   ],
   "source": [
    "#note, we can do the same thing this way:\n",
    "i = 0\n",
    "x = temp_list[i]\n",
    "if x:\n",
    "    print('it is True!')\n",
    "elif not x:\n",
    "    print('it is False')"
   ]
  },
  {
   "cell_type": "code",
   "execution_count": 28,
   "metadata": {},
   "outputs": [
    {
     "name": "stdout",
     "output_type": "stream",
     "text": [
      "it is False\n"
     ]
    }
   ],
   "source": [
    "#of course, since there are only two options, this is also the same\n",
    "i = 3\n",
    "x = temp_list[i]\n",
    "if x:\n",
    "    print('it is True!')\n",
    "else:\n",
    "    print('it is False')"
   ]
  },
  {
   "cell_type": "code",
   "execution_count": 51,
   "metadata": {},
   "outputs": [
    {
     "name": "stdout",
     "output_type": "stream",
     "text": [
      "['CA', 'NM', 'MO', 'IL']\n",
      "I'm in the if\n",
      "if is True\n",
      "Now I live in IL\n"
     ]
    }
   ],
   "source": [
    "#now back to the silly example\n",
    "print(states)\n",
    "i = 3\n",
    "if states[i] == current: \n",
    "    print(\"I'm in the if\")\n",
    "    print(\"if is {}\".format(states[i] == current))\n",
    "    print(\"Now I live in \"+ states[i])\n",
    "elif states[i] != current:\n",
    "    print(\"I'm in the elif\")\n",
    "    print(\"elif is {}\".format(states[i] != current))\n",
    "    print(\"I've lived in \"+ states[i])"
   ]
  },
  {
   "cell_type": "markdown",
   "metadata": {},
   "source": [
    "## Another If Statement Example"
   ]
  },
  {
   "cell_type": "code",
   "execution_count": 65,
   "metadata": {},
   "outputs": [
    {
     "name": "stdout",
     "output_type": "stream",
     "text": [
      "8.2\n"
     ]
    }
   ],
   "source": [
    "my_var = 4.1\n",
    "\n",
    "if isinstance(my_var, str): #isinstance is built in fn to test for data type\n",
    "    print(\"Ok, that's nice. It's a string\")\n",
    "elif isinstance(my_var, int):\n",
    "    print(my_var + 2)\n",
    "elif isinstance(my_var, float):\n",
    "    print(my_var * 2)\n",
    "else:\n",
    "    print('unexpected data type')\n"
   ]
  },
  {
   "cell_type": "markdown",
   "metadata": {},
   "source": [
    "### Nested If Statement "
   ]
  },
  {
   "cell_type": "code",
   "execution_count": 66,
   "metadata": {},
   "outputs": [
    {
     "name": "stdout",
     "output_type": "stream",
     "text": [
      "even integer\n",
      "12\n"
     ]
    }
   ],
   "source": [
    "my_var = 10\n",
    "\n",
    "if isinstance(my_var, str): #isinstance is built in fn to test for data type\n",
    "    print(\"Ok, that's nice. It's a string\")\n",
    "elif isinstance(my_var, int):\n",
    "    if my_var % 2 == 0:\n",
    "        print('even integer')\n",
    "        print(my_var + 2)\n",
    "    elif my_var % 5 == 0:\n",
    "        print('int is divisible by 5')\n",
    "        print(my_var * 5)\n",
    "    else:\n",
    "        print('int is neither divisible by 2 or by 5')\n",
    "    #I removed the float elif, just so this wasn't so long\n",
    "else:\n",
    "    print('unexpected data type')"
   ]
  },
  {
   "cell_type": "code",
   "execution_count": 67,
   "metadata": {},
   "outputs": [
    {
     "name": "stdout",
     "output_type": "stream",
     "text": [
      "even integer\n",
      "12\n",
      "int is divisible by 5\n",
      "50\n"
     ]
    }
   ],
   "source": [
    "my_var = 10\n",
    "\n",
    "if isinstance(my_var, str): #isinstance is built in fn to test for data type\n",
    "    print(\"Ok, that's nice. It's a string\")\n",
    "elif isinstance(my_var, int):\n",
    "    if my_var % 2 == 0:\n",
    "        print('even integer')\n",
    "        print(my_var + 2)\n",
    "        if my_var % 5 == 0:\n",
    "            print('int is divisible by 5')\n",
    "            print(my_var * 5)\n",
    "    else:\n",
    "        print('int is odd')\n",
    "    #I removed the float elif, just so this wasn't so long\n",
    "else:\n",
    "    print('unexpected data type')"
   ]
  },
  {
   "cell_type": "markdown",
   "metadata": {},
   "source": [
    "### and, or, in, not"
   ]
  },
  {
   "cell_type": "code",
   "execution_count": 7,
   "metadata": {},
   "outputs": [
    {
     "name": "stdout",
     "output_type": "stream",
     "text": [
      "False\n",
      "True\n",
      "False\n",
      "True\n"
     ]
    },
    {
     "data": {
      "text/plain": [
       "4"
      ]
     },
     "execution_count": 7,
     "metadata": {},
     "output_type": "execute_result"
    }
   ],
   "source": [
    "x = [1,2,3,4] #len(x) == 4\n",
    "y = [3,5,9] #len(y) == 3\n",
    "\n",
    "print(len(x) < 3)\n",
    "print(len(y) <= 3)\n",
    "print(len(x) < 3 and len(y) <= 3)\n",
    "print(len(x) < 3 or len(y) <= 3)"
   ]
  },
  {
   "cell_type": "code",
   "execution_count": 11,
   "metadata": {},
   "outputs": [
    {
     "data": {
      "text/plain": [
       "True"
      ]
     },
     "execution_count": 11,
     "metadata": {},
     "output_type": "execute_result"
    }
   ],
   "source": [
    "1 in x and 3 in y"
   ]
  },
  {
   "cell_type": "code",
   "execution_count": 79,
   "metadata": {},
   "outputs": [
    {
     "name": "stdout",
     "output_type": "stream",
     "text": [
      "I have the data for IL, but not for Cook County\n"
     ]
    }
   ],
   "source": [
    "states = ['CA', 'NM', 'MO', 'IL']\n",
    "counties = ['Los Angeles', 'Santa Fe']#,'Cook County']\n",
    "state = 'IL'\n",
    "county = 'Cook County'\n",
    "\n",
    "if state in states and county in counties:\n",
    "    print(\"I have the data for {}, {}\".format(county, state))\n",
    "elif state in states and county not in counties:\n",
    "    print(\"I have the data for {}, but not for {}\".format(state, county))\n",
    "else:\n",
    "    print(\"Huh?\")"
   ]
  },
  {
   "cell_type": "code",
   "execution_count": 80,
   "metadata": {},
   "outputs": [
    {
     "name": "stdout",
     "output_type": "stream",
     "text": [
      "True\n",
      "False\n"
     ]
    }
   ],
   "source": [
    "print(state in states) \n",
    "print(county in counties)"
   ]
  },
  {
   "cell_type": "code",
   "execution_count": 81,
   "metadata": {},
   "outputs": [
    {
     "name": "stdout",
     "output_type": "stream",
     "text": [
      "False\n"
     ]
    }
   ],
   "source": [
    "print(state in states and county in counties) "
   ]
  },
  {
   "cell_type": "code",
   "execution_count": 82,
   "metadata": {},
   "outputs": [
    {
     "name": "stdout",
     "output_type": "stream",
     "text": [
      "True\n",
      "True\n"
     ]
    }
   ],
   "source": [
    "print(state in states) \n",
    "print(county not in counties)"
   ]
  },
  {
   "cell_type": "code",
   "execution_count": 83,
   "metadata": {},
   "outputs": [
    {
     "name": "stdout",
     "output_type": "stream",
     "text": [
      "True\n"
     ]
    }
   ],
   "source": [
    "print(state in states and county not in counties) "
   ]
  },
  {
   "cell_type": "code",
   "execution_count": 92,
   "metadata": {},
   "outputs": [
    {
     "name": "stdout",
     "output_type": "stream",
     "text": [
      "I have the data for neither Cook County nor IL\n"
     ]
    }
   ],
   "source": [
    "states = ['CA', 'NM', 'MO', 'IL']\n",
    "counties = ['Los Angeles', 'Santa Fe']#,'Cook County']\n",
    "state = 'IL'\n",
    "county = 'Cook County'\n",
    "\n",
    "if state in states or county in counties:\n",
    "    print(\"I have the data for {} or {}, maybe both\".format(county, state))\n",
    "else:\n",
    "    print(\"I have the data for neither {} nor {}\".format(county, state))"
   ]
  },
  {
   "cell_type": "code",
   "execution_count": 93,
   "metadata": {},
   "outputs": [
    {
     "name": "stdout",
     "output_type": "stream",
     "text": [
      "False\n",
      "False\n"
     ]
    }
   ],
   "source": [
    "print(state in states)\n",
    "print(county in counties)"
   ]
  },
  {
   "cell_type": "code",
   "execution_count": 94,
   "metadata": {},
   "outputs": [
    {
     "name": "stdout",
     "output_type": "stream",
     "text": [
      "False\n",
      "False\n"
     ]
    }
   ],
   "source": [
    "print(state in states or county in counties) \n",
    "print(state in states and county in counties) "
   ]
  },
  {
   "cell_type": "code",
   "execution_count": null,
   "metadata": {},
   "outputs": [],
   "source": []
  }
 ],
 "metadata": {
  "kernelspec": {
   "display_name": "Python 3",
   "language": "python",
   "name": "python3"
  },
  "language_info": {
   "codemirror_mode": {
    "name": "ipython",
    "version": 3
   },
   "file_extension": ".py",
   "mimetype": "text/x-python",
   "name": "python",
   "nbconvert_exporter": "python",
   "pygments_lexer": "ipython3",
   "version": "3.7.1"
  }
 },
 "nbformat": 4,
 "nbformat_minor": 2
}
